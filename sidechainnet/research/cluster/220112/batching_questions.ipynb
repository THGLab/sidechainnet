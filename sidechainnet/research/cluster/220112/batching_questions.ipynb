{
 "cells": [
  {
   "cell_type": "code",
   "execution_count": 1,
   "metadata": {},
   "outputs": [
    {
     "name": "stdout",
     "output_type": "stream",
     "text": [
      "/net/pulsar/home/koes/jok120/repos/sidechainnet/sidechainnet/research/cluster/220112\n",
      "/net/pulsar/home/koes/jok120/anaconda3/envs/sidechainnetv2/bin/python\n"
     ]
    }
   ],
   "source": [
    "!pwd\n",
    "!which python\n",
    "import sidechainnet as scn"
   ]
  },
  {
   "cell_type": "code",
   "execution_count": 2,
   "metadata": {},
   "outputs": [
    {
     "name": "stdout",
     "output_type": "stream",
     "text": [
      "SidechainNet was loaded from ./sidechainnet_data/sidechainnet_casp12_30.pkl.\n"
     ]
    }
   ],
   "source": [
    "dl = scn.load(12, 30, with_pytorch='dataloaders', dynamic_batching=False, batch_size=4)"
   ]
  },
  {
   "cell_type": "code",
   "execution_count": 25,
   "metadata": {},
   "outputs": [],
   "source": [
    "t = dl['train'].dataset"
   ]
  },
  {
   "cell_type": "code",
   "execution_count": 26,
   "metadata": {},
   "outputs": [
    {
     "data": {
      "text/plain": [
       "4914"
      ]
     },
     "execution_count": 26,
     "metadata": {},
     "output_type": "execute_result"
    }
   ],
   "source": [
    "len(t[0][-1])"
   ]
  },
  {
   "cell_type": "code",
   "execution_count": 27,
   "metadata": {},
   "outputs": [
    {
     "data": {
      "text/plain": [
       "20"
      ]
     },
     "execution_count": 27,
     "metadata": {},
     "output_type": "execute_result"
    }
   ],
   "source": [
    "len(t[-1][-1])"
   ]
  },
  {
   "cell_type": "code",
   "execution_count": 30,
   "metadata": {},
   "outputs": [
    {
     "ename": "RuntimeError",
     "evalue": "DataLoader worker (pid(s) 1691965) exited unexpectedly",
     "output_type": "error",
     "traceback": [
      "\u001b[0;31m---------------------------------------------------------------------------\u001b[0m",
      "\u001b[0;31mRuntimeError\u001b[0m                              Traceback (most recent call last)",
      "File \u001b[0;32m~/anaconda3/envs/sidechainnetv2/lib/python3.8/site-packages/torch/utils/data/dataloader.py:990\u001b[0m, in \u001b[0;36m_MultiProcessingDataLoaderIter._try_get_data\u001b[0;34m(self, timeout)\u001b[0m\n\u001b[1;32m    989\u001b[0m \u001b[38;5;28;01mtry\u001b[39;00m:\n\u001b[0;32m--> 990\u001b[0m     data \u001b[38;5;241m=\u001b[39m \u001b[38;5;28;43mself\u001b[39;49m\u001b[38;5;241;43m.\u001b[39;49m\u001b[43m_data_queue\u001b[49m\u001b[38;5;241;43m.\u001b[39;49m\u001b[43mget\u001b[49m\u001b[43m(\u001b[49m\u001b[43mtimeout\u001b[49m\u001b[38;5;241;43m=\u001b[39;49m\u001b[43mtimeout\u001b[49m\u001b[43m)\u001b[49m\n\u001b[1;32m    991\u001b[0m     \u001b[38;5;28;01mreturn\u001b[39;00m (\u001b[38;5;28;01mTrue\u001b[39;00m, data)\n",
      "File \u001b[0;32m~/anaconda3/envs/sidechainnetv2/lib/python3.8/multiprocessing/queues.py:107\u001b[0m, in \u001b[0;36mQueue.get\u001b[0;34m(self, block, timeout)\u001b[0m\n\u001b[1;32m    106\u001b[0m timeout \u001b[38;5;241m=\u001b[39m deadline \u001b[38;5;241m-\u001b[39m time\u001b[38;5;241m.\u001b[39mmonotonic()\n\u001b[0;32m--> 107\u001b[0m \u001b[38;5;28;01mif\u001b[39;00m \u001b[38;5;129;01mnot\u001b[39;00m \u001b[38;5;28;43mself\u001b[39;49m\u001b[38;5;241;43m.\u001b[39;49m\u001b[43m_poll\u001b[49m\u001b[43m(\u001b[49m\u001b[43mtimeout\u001b[49m\u001b[43m)\u001b[49m:\n\u001b[1;32m    108\u001b[0m     \u001b[38;5;28;01mraise\u001b[39;00m Empty\n",
      "File \u001b[0;32m~/anaconda3/envs/sidechainnetv2/lib/python3.8/multiprocessing/connection.py:257\u001b[0m, in \u001b[0;36m_ConnectionBase.poll\u001b[0;34m(self, timeout)\u001b[0m\n\u001b[1;32m    256\u001b[0m \u001b[38;5;28mself\u001b[39m\u001b[38;5;241m.\u001b[39m_check_readable()\n\u001b[0;32m--> 257\u001b[0m \u001b[38;5;28;01mreturn\u001b[39;00m \u001b[38;5;28;43mself\u001b[39;49m\u001b[38;5;241;43m.\u001b[39;49m\u001b[43m_poll\u001b[49m\u001b[43m(\u001b[49m\u001b[43mtimeout\u001b[49m\u001b[43m)\u001b[49m\n",
      "File \u001b[0;32m~/anaconda3/envs/sidechainnetv2/lib/python3.8/multiprocessing/connection.py:424\u001b[0m, in \u001b[0;36mConnection._poll\u001b[0;34m(self, timeout)\u001b[0m\n\u001b[1;32m    423\u001b[0m \u001b[38;5;28;01mdef\u001b[39;00m \u001b[38;5;21m_poll\u001b[39m(\u001b[38;5;28mself\u001b[39m, timeout):\n\u001b[0;32m--> 424\u001b[0m     r \u001b[38;5;241m=\u001b[39m \u001b[43mwait\u001b[49m\u001b[43m(\u001b[49m\u001b[43m[\u001b[49m\u001b[38;5;28;43mself\u001b[39;49m\u001b[43m]\u001b[49m\u001b[43m,\u001b[49m\u001b[43m \u001b[49m\u001b[43mtimeout\u001b[49m\u001b[43m)\u001b[49m\n\u001b[1;32m    425\u001b[0m     \u001b[38;5;28;01mreturn\u001b[39;00m \u001b[38;5;28mbool\u001b[39m(r)\n",
      "File \u001b[0;32m~/anaconda3/envs/sidechainnetv2/lib/python3.8/multiprocessing/connection.py:931\u001b[0m, in \u001b[0;36mwait\u001b[0;34m(object_list, timeout)\u001b[0m\n\u001b[1;32m    930\u001b[0m \u001b[38;5;28;01mwhile\u001b[39;00m \u001b[38;5;28;01mTrue\u001b[39;00m:\n\u001b[0;32m--> 931\u001b[0m     ready \u001b[38;5;241m=\u001b[39m \u001b[43mselector\u001b[49m\u001b[38;5;241;43m.\u001b[39;49m\u001b[43mselect\u001b[49m\u001b[43m(\u001b[49m\u001b[43mtimeout\u001b[49m\u001b[43m)\u001b[49m\n\u001b[1;32m    932\u001b[0m     \u001b[38;5;28;01mif\u001b[39;00m ready:\n",
      "File \u001b[0;32m~/anaconda3/envs/sidechainnetv2/lib/python3.8/selectors.py:415\u001b[0m, in \u001b[0;36m_PollLikeSelector.select\u001b[0;34m(self, timeout)\u001b[0m\n\u001b[1;32m    414\u001b[0m \u001b[38;5;28;01mtry\u001b[39;00m:\n\u001b[0;32m--> 415\u001b[0m     fd_event_list \u001b[38;5;241m=\u001b[39m \u001b[38;5;28;43mself\u001b[39;49m\u001b[38;5;241;43m.\u001b[39;49m\u001b[43m_selector\u001b[49m\u001b[38;5;241;43m.\u001b[39;49m\u001b[43mpoll\u001b[49m\u001b[43m(\u001b[49m\u001b[43mtimeout\u001b[49m\u001b[43m)\u001b[49m\n\u001b[1;32m    416\u001b[0m \u001b[38;5;28;01mexcept\u001b[39;00m \u001b[38;5;167;01mInterruptedError\u001b[39;00m:\n",
      "File \u001b[0;32m~/anaconda3/envs/sidechainnetv2/lib/python3.8/site-packages/torch/utils/data/_utils/signal_handling.py:66\u001b[0m, in \u001b[0;36m_set_SIGCHLD_handler.<locals>.handler\u001b[0;34m(signum, frame)\u001b[0m\n\u001b[1;32m     63\u001b[0m \u001b[38;5;28;01mdef\u001b[39;00m \u001b[38;5;21mhandler\u001b[39m(signum, frame):\n\u001b[1;32m     64\u001b[0m     \u001b[38;5;66;03m# This following call uses `waitid` with WNOHANG from C side. Therefore,\u001b[39;00m\n\u001b[1;32m     65\u001b[0m     \u001b[38;5;66;03m# Python can still get and update the process status successfully.\u001b[39;00m\n\u001b[0;32m---> 66\u001b[0m     \u001b[43m_error_if_any_worker_fails\u001b[49m\u001b[43m(\u001b[49m\u001b[43m)\u001b[49m\n\u001b[1;32m     67\u001b[0m     \u001b[38;5;28;01mif\u001b[39;00m previous_handler \u001b[38;5;129;01mis\u001b[39;00m \u001b[38;5;129;01mnot\u001b[39;00m \u001b[38;5;28;01mNone\u001b[39;00m:\n",
      "\u001b[0;31mRuntimeError\u001b[0m: DataLoader worker (pid 1691965) is killed by signal: Killed. ",
      "\nThe above exception was the direct cause of the following exception:\n",
      "\u001b[0;31mRuntimeError\u001b[0m                              Traceback (most recent call last)",
      "Input \u001b[0;32mIn [30]\u001b[0m, in \u001b[0;36m<module>\u001b[0;34m\u001b[0m\n\u001b[0;32m----> 1\u001b[0m b \u001b[38;5;241m=\u001b[39m \u001b[38;5;28;43mnext\u001b[39;49m\u001b[43m(\u001b[49m\u001b[38;5;28;43miter\u001b[39;49m\u001b[43m(\u001b[49m\u001b[43mdl\u001b[49m\u001b[43m[\u001b[49m\u001b[38;5;124;43m'\u001b[39;49m\u001b[38;5;124;43mtrain\u001b[39;49m\u001b[38;5;124;43m'\u001b[39;49m\u001b[43m]\u001b[49m\u001b[43m)\u001b[49m\u001b[43m)\u001b[49m\n\u001b[1;32m      3\u001b[0m \u001b[38;5;28mprint\u001b[39m([\u001b[38;5;28mlen\u001b[39m(i) \u001b[38;5;28;01mfor\u001b[39;00m i \u001b[38;5;129;01min\u001b[39;00m b\u001b[38;5;241m.\u001b[39mstr_seqs])\n",
      "File \u001b[0;32m~/anaconda3/envs/sidechainnetv2/lib/python3.8/site-packages/torch/utils/data/dataloader.py:521\u001b[0m, in \u001b[0;36m_BaseDataLoaderIter.__next__\u001b[0;34m(self)\u001b[0m\n\u001b[1;32m    519\u001b[0m \u001b[38;5;28;01mif\u001b[39;00m \u001b[38;5;28mself\u001b[39m\u001b[38;5;241m.\u001b[39m_sampler_iter \u001b[38;5;129;01mis\u001b[39;00m \u001b[38;5;28;01mNone\u001b[39;00m:\n\u001b[1;32m    520\u001b[0m     \u001b[38;5;28mself\u001b[39m\u001b[38;5;241m.\u001b[39m_reset()\n\u001b[0;32m--> 521\u001b[0m data \u001b[38;5;241m=\u001b[39m \u001b[38;5;28;43mself\u001b[39;49m\u001b[38;5;241;43m.\u001b[39;49m\u001b[43m_next_data\u001b[49m\u001b[43m(\u001b[49m\u001b[43m)\u001b[49m\n\u001b[1;32m    522\u001b[0m \u001b[38;5;28mself\u001b[39m\u001b[38;5;241m.\u001b[39m_num_yielded \u001b[38;5;241m+\u001b[39m\u001b[38;5;241m=\u001b[39m \u001b[38;5;241m1\u001b[39m\n\u001b[1;32m    523\u001b[0m \u001b[38;5;28;01mif\u001b[39;00m \u001b[38;5;28mself\u001b[39m\u001b[38;5;241m.\u001b[39m_dataset_kind \u001b[38;5;241m==\u001b[39m _DatasetKind\u001b[38;5;241m.\u001b[39mIterable \u001b[38;5;129;01mand\u001b[39;00m \\\n\u001b[1;32m    524\u001b[0m         \u001b[38;5;28mself\u001b[39m\u001b[38;5;241m.\u001b[39m_IterableDataset_len_called \u001b[38;5;129;01mis\u001b[39;00m \u001b[38;5;129;01mnot\u001b[39;00m \u001b[38;5;28;01mNone\u001b[39;00m \u001b[38;5;129;01mand\u001b[39;00m \\\n\u001b[1;32m    525\u001b[0m         \u001b[38;5;28mself\u001b[39m\u001b[38;5;241m.\u001b[39m_num_yielded \u001b[38;5;241m>\u001b[39m \u001b[38;5;28mself\u001b[39m\u001b[38;5;241m.\u001b[39m_IterableDataset_len_called:\n",
      "File \u001b[0;32m~/anaconda3/envs/sidechainnetv2/lib/python3.8/site-packages/torch/utils/data/dataloader.py:1186\u001b[0m, in \u001b[0;36m_MultiProcessingDataLoaderIter._next_data\u001b[0;34m(self)\u001b[0m\n\u001b[1;32m   1183\u001b[0m     \u001b[38;5;28;01mreturn\u001b[39;00m \u001b[38;5;28mself\u001b[39m\u001b[38;5;241m.\u001b[39m_process_data(data)\n\u001b[1;32m   1185\u001b[0m \u001b[38;5;28;01massert\u001b[39;00m \u001b[38;5;129;01mnot\u001b[39;00m \u001b[38;5;28mself\u001b[39m\u001b[38;5;241m.\u001b[39m_shutdown \u001b[38;5;129;01mand\u001b[39;00m \u001b[38;5;28mself\u001b[39m\u001b[38;5;241m.\u001b[39m_tasks_outstanding \u001b[38;5;241m>\u001b[39m \u001b[38;5;241m0\u001b[39m\n\u001b[0;32m-> 1186\u001b[0m idx, data \u001b[38;5;241m=\u001b[39m \u001b[38;5;28;43mself\u001b[39;49m\u001b[38;5;241;43m.\u001b[39;49m\u001b[43m_get_data\u001b[49m\u001b[43m(\u001b[49m\u001b[43m)\u001b[49m\n\u001b[1;32m   1187\u001b[0m \u001b[38;5;28mself\u001b[39m\u001b[38;5;241m.\u001b[39m_tasks_outstanding \u001b[38;5;241m-\u001b[39m\u001b[38;5;241m=\u001b[39m \u001b[38;5;241m1\u001b[39m\n\u001b[1;32m   1188\u001b[0m \u001b[38;5;28;01mif\u001b[39;00m \u001b[38;5;28mself\u001b[39m\u001b[38;5;241m.\u001b[39m_dataset_kind \u001b[38;5;241m==\u001b[39m _DatasetKind\u001b[38;5;241m.\u001b[39mIterable:\n\u001b[1;32m   1189\u001b[0m     \u001b[38;5;66;03m# Check for _IterableDatasetStopIteration\u001b[39;00m\n",
      "File \u001b[0;32m~/anaconda3/envs/sidechainnetv2/lib/python3.8/site-packages/torch/utils/data/dataloader.py:1152\u001b[0m, in \u001b[0;36m_MultiProcessingDataLoaderIter._get_data\u001b[0;34m(self)\u001b[0m\n\u001b[1;32m   1148\u001b[0m     \u001b[38;5;66;03m# In this case, `self._data_queue` is a `queue.Queue`,. But we don't\u001b[39;00m\n\u001b[1;32m   1149\u001b[0m     \u001b[38;5;66;03m# need to call `.task_done()` because we don't use `.join()`.\u001b[39;00m\n\u001b[1;32m   1150\u001b[0m \u001b[38;5;28;01melse\u001b[39;00m:\n\u001b[1;32m   1151\u001b[0m     \u001b[38;5;28;01mwhile\u001b[39;00m \u001b[38;5;28;01mTrue\u001b[39;00m:\n\u001b[0;32m-> 1152\u001b[0m         success, data \u001b[38;5;241m=\u001b[39m \u001b[38;5;28;43mself\u001b[39;49m\u001b[38;5;241;43m.\u001b[39;49m\u001b[43m_try_get_data\u001b[49m\u001b[43m(\u001b[49m\u001b[43m)\u001b[49m\n\u001b[1;32m   1153\u001b[0m         \u001b[38;5;28;01mif\u001b[39;00m success:\n\u001b[1;32m   1154\u001b[0m             \u001b[38;5;28;01mreturn\u001b[39;00m data\n",
      "File \u001b[0;32m~/anaconda3/envs/sidechainnetv2/lib/python3.8/site-packages/torch/utils/data/dataloader.py:1003\u001b[0m, in \u001b[0;36m_MultiProcessingDataLoaderIter._try_get_data\u001b[0;34m(self, timeout)\u001b[0m\n\u001b[1;32m   1001\u001b[0m \u001b[38;5;28;01mif\u001b[39;00m \u001b[38;5;28mlen\u001b[39m(failed_workers) \u001b[38;5;241m>\u001b[39m \u001b[38;5;241m0\u001b[39m:\n\u001b[1;32m   1002\u001b[0m     pids_str \u001b[38;5;241m=\u001b[39m \u001b[38;5;124m'\u001b[39m\u001b[38;5;124m, \u001b[39m\u001b[38;5;124m'\u001b[39m\u001b[38;5;241m.\u001b[39mjoin(\u001b[38;5;28mstr\u001b[39m(w\u001b[38;5;241m.\u001b[39mpid) \u001b[38;5;28;01mfor\u001b[39;00m w \u001b[38;5;129;01min\u001b[39;00m failed_workers)\n\u001b[0;32m-> 1003\u001b[0m     \u001b[38;5;28;01mraise\u001b[39;00m \u001b[38;5;167;01mRuntimeError\u001b[39;00m(\u001b[38;5;124m'\u001b[39m\u001b[38;5;124mDataLoader worker (pid(s) \u001b[39m\u001b[38;5;132;01m{}\u001b[39;00m\u001b[38;5;124m) exited unexpectedly\u001b[39m\u001b[38;5;124m'\u001b[39m\u001b[38;5;241m.\u001b[39mformat(pids_str)) \u001b[38;5;28;01mfrom\u001b[39;00m \u001b[38;5;21;01me\u001b[39;00m\n\u001b[1;32m   1004\u001b[0m \u001b[38;5;28;01mif\u001b[39;00m \u001b[38;5;28misinstance\u001b[39m(e, queue\u001b[38;5;241m.\u001b[39mEmpty):\n\u001b[1;32m   1005\u001b[0m     \u001b[38;5;28;01mreturn\u001b[39;00m (\u001b[38;5;28;01mFalse\u001b[39;00m, \u001b[38;5;28;01mNone\u001b[39;00m)\n",
      "\u001b[0;31mRuntimeError\u001b[0m: DataLoader worker (pid(s) 1691965) exited unexpectedly"
     ]
    }
   ],
   "source": [
    "b = next(iter(dl['train']))\n",
    "\n",
    "print([len(i) for i in b.str_seqs])"
   ]
  },
  {
   "cell_type": "code",
   "execution_count": 17,
   "metadata": {},
   "outputs": [
    {
     "data": {
      "text/plain": [
       "('2OAJ_1_A',\n",
       " '4ZXB_5_E',\n",
       " '3ABZ_1_A',\n",
       " '3A0F_1_A',\n",
       " '4WKG_1_A',\n",
       " '4RMX_1_A',\n",
       " '5CD6_1_A',\n",
       " '2WAP_1_A',\n",
       " '3OMN_1_A',\n",
       " '1JR1_1_A',\n",
       " '1KA2_1_A',\n",
       " '2VRK_1_A',\n",
       " '3FW9_1_A',\n",
       " '4G2R_1_A',\n",
       " '4LDE_1_A',\n",
       " '1A8D_1_A',\n",
       " '5IJZ_1_A',\n",
       " '4NAR_1_A',\n",
       " '3WYA_1_A',\n",
       " '1IPJ_1_A',\n",
       " '4L4F_1_A',\n",
       " '1B2Y_d1b2ya2',\n",
       " '2XKR_1_A',\n",
       " '3FG7_1_A',\n",
       " '3OTI_1_A',\n",
       " '2AY8_1_A',\n",
       " '4FCO_d4fcoa-',\n",
       " '1H8L_1_A',\n",
       " '1KQ3_1_A',\n",
       " '3ORV_1_A',\n",
       " '1U1J_d1u1ja2',\n",
       " '5CFB_1_A',\n",
       " '4C7D_d4c7db2',\n",
       " '4Q5Y_1_A',\n",
       " '4DR0_1_A',\n",
       " '1NTO_1_A',\n",
       " '2YM9_1_A',\n",
       " '1AFR_1_A',\n",
       " '3AL5_1_A',\n",
       " '1NQA_1_O',\n",
       " '4MLG_1_A',\n",
       " '5C28_d5c28a1',\n",
       " '1Z9A_1_A',\n",
       " '2IDB_d2idbc1',\n",
       " '4L01_1_A',\n",
       " '3LJX_1_A',\n",
       " '3QQ2_1_A',\n",
       " '2P4S_d2p4sc-',\n",
       " '4K2N_1_A',\n",
       " '4AFY_1_A',\n",
       " '2OX4_d2ox4h2',\n",
       " '2Q5F_1_A',\n",
       " '1J2Z_1_A',\n",
       " '4C98_1_A',\n",
       " '3J7A_3_C',\n",
       " '2NWP_1_A',\n",
       " '4QL8_1_A',\n",
       " '4OF0_1_A',\n",
       " '3K9M_1_A',\n",
       " '3ITN_1_A',\n",
       " '2GFW_d2gfwa1',\n",
       " '5BMO_1_A',\n",
       " '4TWI_1_A',\n",
       " '1FP1_d1fp1d2',\n",
       " '4GMP_3_3',\n",
       " '1RYP_4_D',\n",
       " '3W1C_1_A',\n",
       " '1HR7_d1hr7a2',\n",
       " '3F6Y_d3f6ya-',\n",
       " '1Q5Q_2_H',\n",
       " '1QYG_2_H',\n",
       " '3ZVJ_2_D',\n",
       " '3IFO_2_L',\n",
       " '4XP9_3_H',\n",
       " '5CSZ_2_L',\n",
       " '4KPH_2_H',\n",
       " '1YJD_1_L',\n",
       " '5FJA_7_G',\n",
       " '2IOR_d2iora1',\n",
       " '4I66_1_A',\n",
       " '3N0F_d3n0fb1',\n",
       " '2QMH_1_A',\n",
       " '3E3R_1_A',\n",
       " '4Z03_1_A',\n",
       " '3HBE_1_X',\n",
       " '5AJ3_32_n',\n",
       " '1KLQ_1_A',\n",
       " '1TRK_d1trkb2',\n",
       " '2J8H_1_A',\n",
       " '3NEY_1_A',\n",
       " '1QPB_d1qpbb3',\n",
       " '2J21_d2j21b-',\n",
       " '2NYB_1_A',\n",
       " '5BNY_2_B',\n",
       " '2FJR_1_A',\n",
       " '5AJ4_33_Ap',\n",
       " '3A98_1_A',\n",
       " '4R30_1_A',\n",
       " '1OHD_d1ohda2',\n",
       " '1BED_1_A',\n",
       " '2IPH_1_A',\n",
       " '2NTY_2_C',\n",
       " '4JQF_1_A',\n",
       " '4NQJ_1_A',\n",
       " '4P18_1_A',\n",
       " '1KP8_d1kp8n2',\n",
       " '3GVF_d3gvfa-',\n",
       " '1YJ5_d1yj5b2',\n",
       " '4R71_3_E',\n",
       " '1LQL_1_A',\n",
       " '4C86_1_A',\n",
       " '1CUP_1_A',\n",
       " '2I83_1_A',\n",
       " '1RVT_2_I',\n",
       " '4Z3L_1_A',\n",
       " '2BZV_d2bzva1',\n",
       " '1KZY_d1kzyd1',\n",
       " '3N08_1_A',\n",
       " '2B0O_d2b0of2',\n",
       " '2RKS_1_A',\n",
       " '2HKV_1_A',\n",
       " '1JY0_1_A',\n",
       " '3GFL_1_A',\n",
       " '4QO3_1_A',\n",
       " '4U6F_21_C9',\n",
       " '1EFU_d1efud2',\n",
       " '1NFN_d1nfna-',\n",
       " '1WMU_1_A',\n",
       " '2BW2_1_A',\n",
       " '2MOB_1_A',\n",
       " '1YYP_d1yypa2',\n",
       " '4N8P_1_A',\n",
       " '1DM9_1_A',\n",
       " '2OQ1_d2oq1a1',\n",
       " '3BN8_1_A',\n",
       " '3JT2_1_A',\n",
       " '1P6P_1_A',\n",
       " '2BSH_1_A',\n",
       " '1RKT_d1rktb2',\n",
       " '4HHH_2_S',\n",
       " '2F8F_d2f8fb1',\n",
       " '3WUZ_1_A',\n",
       " '2X18_1_A',\n",
       " '2RMX_1_A',\n",
       " '2CYJ_1_A',\n",
       " '4K3G_1_A',\n",
       " '1T4K_d1t4kd1',\n",
       " '1ZA6_d1za6h1',\n",
       " '1EGA_d1egaa2',\n",
       " '4YE4_d4ye4l1',\n",
       " '3RUP_d3rupb1',\n",
       " '1KPF_d1kpfa-',\n",
       " '1XYW_1_A',\n",
       " '1VAE_1_A',\n",
       " '1BWW_1_A',\n",
       " '1X5X_1_A',\n",
       " '2QKE_1_A',\n",
       " '2BC5_1_A',\n",
       " '1Z3G_d1z3gm1',\n",
       " '1WG5_1_A',\n",
       " '3CGT_d3cgta2',\n",
       " '2KX0_1_A',\n",
       " '2DKU_1_A',\n",
       " '4OJH_1_A',\n",
       " '2BVZ_1_A',\n",
       " '2EDE_d2edea1',\n",
       " '2CQ4_d2cq4a1',\n",
       " '1YWH_d1ywhm1',\n",
       " '2H3N_1_A',\n",
       " '3TES_1_A',\n",
       " '1U58_d1u58a1',\n",
       " '1OVY_d1ovya-',\n",
       " '2LP3_1_A',\n",
       " '2KLX_1_A',\n",
       " '2CT7_1_A',\n",
       " '2LJX_1_A',\n",
       " '4LIR_d4lira-',\n",
       " '1TTN_d1ttna1',\n",
       " '1HD1_1_A',\n",
       " '2JS4_1_A',\n",
       " '1A0O_d1a0ob-',\n",
       " '2HDZ_d2hdza-',\n",
       " '1RLQ_1_C',\n",
       " '2KE7_d2ke7a-',\n",
       " '2QIC_1_A',\n",
       " '2F2V_1_A',\n",
       " '4U39_2_J',\n",
       " '2HL5_d2hl5b-',\n",
       " '1GUU_1_A',\n",
       " '2M86_1_A',\n",
       " '4V3P_24_SX',\n",
       " '1Q8H_1_A',\n",
       " '4XK8_10_J',\n",
       " '2JPM_1_A',\n",
       " '3J89_1_A',\n",
       " '2YTB_d2ytba1',\n",
       " '1SG1_d1sg1x4',\n",
       " '2CMY_d2cmyb1')"
      ]
     },
     "execution_count": 17,
     "metadata": {},
     "output_type": "execute_result"
    }
   ],
   "source": [
    "b.pids"
   ]
  },
  {
   "cell_type": "code",
   "execution_count": null,
   "metadata": {},
   "outputs": [],
   "source": []
  }
 ],
 "metadata": {
  "interpreter": {
   "hash": "2ea65d684a20c904dd0ce196a8938c08205850e9bd6d966931389d7cee446e27"
  },
  "kernelspec": {
   "display_name": "Python [conda env:sidechainnetv2] *",
   "language": "python",
   "name": "conda-env-sidechainnetv2-py"
  },
  "language_info": {
   "codemirror_mode": {
    "name": "ipython",
    "version": 3
   },
   "file_extension": ".py",
   "mimetype": "text/x-python",
   "name": "python",
   "nbconvert_exporter": "python",
   "pygments_lexer": "ipython3",
   "version": "3.8.12"
  }
 },
 "nbformat": 4,
 "nbformat_minor": 2
}
